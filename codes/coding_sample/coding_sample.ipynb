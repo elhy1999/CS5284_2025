{
 "cells": [
  {
   "cell_type": "markdown",
   "id": "46bcc520-6328-4d85-acae-499775e62f2c",
   "metadata": {},
   "source": [
    "## CS5284 Graph Machine Learning\n",
    "\n",
    "## Coding sample\n",
    "\n",
    "*Instructions* <br>\n",
    "Name: Please, add your name here : e.g. JOHN SMITH<br>\n",
    "Answers: Please write your answers directly in this notebook by completing the code sections marked with  \n",
    "`# YOUR CODE STARTS HERE`  \n",
    "`# YOUR CODE` (it can span one or multiple lines)  \n",
    "`# YOUR CODE ENDS HERE`. <br>\n",
    "Remark: If certain conditions of the questions (for eg. hyperparameter values) are not stated, you are free to choose anything you want.  \n"
   ]
  },
  {
   "cell_type": "markdown",
   "id": "afca19d4-10e9-40b3-bd37-a9354dbae93f",
   "metadata": {
    "id": "afca19d4-10e9-40b3-bd37-a9354dbae93f"
   },
   "source": [
    "# Exercise : Graph Clustering with World Happiness Dataset"
   ]
  },
  {
   "cell_type": "markdown",
   "id": "c94550d4-4325-43b5-89fe-5d5b7622fa96",
   "metadata": {
    "id": "c94550d4-4325-43b5-89fe-5d5b7622fa96"
   },
   "source": [
    "## Import libraries and utility functions"
   ]
  },
  {
   "cell_type": "code",
   "execution_count": null,
   "id": "d5293951-5f9c-4c85-88fc-7cb928719853",
   "metadata": {
    "colab": {
     "base_uri": "https://localhost:8080/",
     "height": 393
    },
    "executionInfo": {
     "elapsed": 6677,
     "status": "error",
     "timestamp": 1726732969215,
     "user": {
      "displayName": "NIAN LIU",
      "userId": "01479807553529622742"
     },
     "user_tz": -480
    },
    "id": "d5293951-5f9c-4c85-88fc-7cb928719853",
    "outputId": "560e4da7-09ea-4f56-d056-c92c0acbea63"
   },
   "outputs": [],
   "source": [
    "%reset -f\n",
    "import datetime\n",
    "print('Timestamp:',datetime.datetime.now().strftime(\"%y-%m-%d--%H-%M-%S\"))\n",
    "import numpy as np\n",
    "import scipy.sparse\n",
    "import pandas as pd\n",
    "import sklearn.metrics.pairwise\n",
    "import networkx as nx\n",
    "import sys; sys.path.insert(0, 'lib/')\n",
    "from lib.utils import compute_ncut\n",
    "from lib.utils import interactive_vis_graph\n",
    "from lib.utils import print_neighboring_countries\n",
    "from lib.utils import get_same_label_countries\n"
   ]
  },
  {
   "cell_type": "markdown",
   "id": "009df6ec-e046-4c36-b2eb-b52a92fedc17",
   "metadata": {
    "id": "009df6ec-e046-4c36-b2eb-b52a92fedc17"
   },
   "source": [
    "## Load and visualize the dataset"
   ]
  },
  {
   "cell_type": "code",
   "execution_count": null,
   "id": "55ee9470-f362-4803-8f65-c3b39793aaeb",
   "metadata": {
    "id": "55ee9470-f362-4803-8f65-c3b39793aaeb"
   },
   "outputs": [],
   "source": [
    "wh = pd.read_csv(\"datasets/2019.csv\") # load the dataset\n",
    "# Features GDP per capita, Social support, Healthy life expectancy, Freedom to make life choices, Generosity, Perceptions of corruption\n",
    "data = wh.iloc[:,3:].to_numpy()\n",
    "print('Number of data points is', data.shape[0], 'and the number of features is', data.shape[1])\n",
    "print('\\nFirst three data points:\\n', str(data[:3]))\n",
    "print('\\nData statistics:')\n",
    "wh.describe()\n"
   ]
  },
  {
   "cell_type": "markdown",
   "id": "c2c8f99b-8fcc-4e75-841d-9744f268ecf4",
   "metadata": {
    "id": "c2c8f99b-8fcc-4e75-841d-9744f268ecf4"
   },
   "source": [
    "## Question 1 : Data normalization\n",
    "\n",
    "Normalize the dataset `data` so that it has a mean of zero and a standard deviation of one along each data dimension.\n",
    "\n",
    "After normalization, print both the mean and standard deviation of the normalized dataset.\n",
    "\n",
    "Hint: You can use the functions `numpy.mean()` and `numpy.std()` for this task.\n"
   ]
  },
  {
   "cell_type": "code",
   "execution_count": null,
   "id": "c4632099-ab55-4679-8925-8585b14113b5",
   "metadata": {
    "id": "c4632099-ab55-4679-8925-8585b14113b5"
   },
   "outputs": [],
   "source": [
    "##############################\n",
    "# Normalize the matrix data with zero mean and unit standard deviation\n",
    "# YOUR CODE STARTS HERE \n",
    "\n",
    "# YOUR CODE ENDS HERE\n",
    "##############################\n"
   ]
  },
  {
   "cell_type": "markdown",
   "id": "87465328-c57c-459c-81c9-9c5885735fb9",
   "metadata": {
    "id": "87465328-c57c-459c-81c9-9c5885735fb9"
   },
   "source": [
    "## Question 2: Construct a k-nearest neighbors (kNN) graph\n",
    "\n",
    "Follow the instructions below to construct a k-nearest neighbors (kNN) graph from the given dataset.\n"
   ]
  },
  {
   "cell_type": "code",
   "execution_count": null,
   "id": "8063f8d3-fc4b-4242-b4ac-30ca7ec6f003",
   "metadata": {
    "id": "8063f8d3-fc4b-4242-b4ac-30ca7ec6f003"
   },
   "outputs": [],
   "source": [
    "def construct_knn_graph(M, k):\n",
    "    \"\"\"Construct a graph using KNN\n",
    "    Args:\n",
    "        M: Data matrix as ndarray of size [n, d], n being the number of data points, d the number of features\n",
    "        k: the number of nearest neighbors\n",
    "    Return:\n",
    "        A: Adjacency graph as scipy.sparse matrix of size [n, n]\n",
    "    \"\"\"\n",
    "\n",
    "    # `dist_mat` is a n x n matrix with the pairwise distance between the data points\n",
    "    dist_mat = sklearn.metrics.pairwise.pairwise_distances(M, metric='euclidean', n_jobs=1)\n",
    "    dist_sorted = dist_mat.copy()\n",
    "    ##############################\n",
    "    # Instruction: Compute the n x k `dist_sorted` matrix, where each row contains the top k smallest distances for each data point.\n",
    "    #              You may use function `numpy.sort()`.\n",
    "    # YOUR CODE STARTS HERE\n",
    "\n",
    "    # YOUR CODE ENDS HERE\n",
    "    ##############################\n",
    "\n",
    "    # Adjacency matrix values `adj_val`\n",
    "    sigma2 = np.mean(dist_sorted[:,-1])**2 # graph scale\n",
    "    adj_val = np.exp(- dist_sorted**2 / sigma2)\n",
    "\n",
    "    # Compute the n x n sparse adjacency matrix `A`\n",
    "    n = M.shape[0]\n",
    "    ##############################\n",
    "    # Instruction: Compute the row and column indices, `row_idx` and `col_idx`, for each edge in the adjacency matrix.\n",
    "    #              You may use functions `numpy.arange()` and `numpy.argsort()` and `numpy.reshape()`.\n",
    "    # YOUR CODE STARTS HERE \n",
    "\n",
    "    # YOUR CODE ENDS HERE\n",
    "    ##############################\n",
    "    data = adj_val.reshape(n*k)\n",
    "    A = scipy.sparse.csr_matrix((data, (row_idx, col_idx)), shape=(n, n))\n",
    "\n",
    "    # Make A symmetric\n",
    "    bigger = A.T > A\n",
    "    A = A - A.multiply(bigger) + A.T.multiply(bigger)\n",
    "\n",
    "    return A\n",
    "    "
   ]
  },
  {
   "cell_type": "code",
   "execution_count": null,
   "id": "177371ab-a3f5-49ea-a9c3-228f02f56ae6",
   "metadata": {
    "id": "177371ab-a3f5-49ea-a9c3-228f02f56ae6"
   },
   "outputs": [],
   "source": [
    "# Construct the graph\n",
    "A = construct_knn_graph(data, k=3)\n",
    "\n",
    "# Visualize the graph of countries \n",
    "countries = wh.iloc[:,1].values\n",
    "labels = dict(zip(range(data.shape[0]), countries))\n",
    "G_nx = nx.from_scipy_sparse_array(A)\n",
    "G_nx.remove_edges_from(nx.selfloop_edges(G_nx)) # Remove self-loops\n",
    "interactive_vis_graph(G_nx, countries, np.ones(data.shape[0]))\n",
    "print_neighboring_countries(G_nx, countries, 'Finland')\n",
    "print_neighboring_countries(G_nx, countries, 'Thailand')\n",
    "print_neighboring_countries(G_nx, countries, 'Singapore')\n"
   ]
  },
  {
   "cell_type": "markdown",
   "id": "c9e5f838-1ce9-473c-9ddf-e92bb7a60008",
   "metadata": {
    "id": "c9e5f838-1ce9-473c-9ddf-e92bb7a60008"
   },
   "source": [
    "## Question 3: Compute and visualize clusters of similar countries according to the features\n",
    "\n",
    "Identify at least three countries that belong to the same cluster as Singapore.\n",
    "\n",
    "Hint: Use the `get_same_label_countries(countries, C, 'Singapore')` function to display the countries in the same cluster as Singapore.\n"
   ]
  },
  {
   "cell_type": "code",
   "execution_count": null,
   "id": "7923f5fa-ca93-4175-9381-343a14a2515e",
   "metadata": {
    "id": "7923f5fa-ca93-4175-9381-343a14a2515e"
   },
   "outputs": [],
   "source": [
    "C, _ = compute_ncut(A, np.ones(data.shape[0]), 20)\n",
    "interactive_vis_graph(G_nx, countries, C)\n",
    "##############################\n",
    "# YOUR CODE STARTS HERE \n",
    "\n",
    "# YOUR CODE ENDS HERE\n",
    "##############################\n"
   ]
  },
  {
   "cell_type": "markdown",
   "id": "a808b368-f580-4be9-b3dc-0f8d953580a1",
   "metadata": {},
   "source": []
  },
  {
   "cell_type": "markdown",
   "id": "1ed0ae99-a060-4866-a377-bdd44aad353a",
   "metadata": {},
   "source": [
    "## End of coding test"
   ]
  },
  {
   "cell_type": "code",
   "execution_count": null,
   "id": "b1e9db15-46f7-4e2a-bfb8-6e8291f04ba5",
   "metadata": {},
   "outputs": [],
   "source": []
  }
 ],
 "metadata": {
  "colab": {
   "provenance": []
  },
  "kernelspec": {
   "display_name": "Python 3 (ipykernel)",
   "language": "python",
   "name": "python3"
  },
  "language_info": {
   "codemirror_mode": {
    "name": "ipython",
    "version": 3
   },
   "file_extension": ".py",
   "mimetype": "text/x-python",
   "name": "python",
   "nbconvert_exporter": "python",
   "pygments_lexer": "ipython3",
   "version": "3.8.20"
  }
 },
 "nbformat": 4,
 "nbformat_minor": 5
}
